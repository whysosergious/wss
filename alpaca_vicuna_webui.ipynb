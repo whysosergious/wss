{
  "cells": [
    {
      "cell_type": "code",
      "source": [
        "import os\n",
        "from google.colab import drive\n",
        "\n",
        "# Mount Google Drive\n",
        "drive.mount('/content/drive')"
      ],
      "metadata": {
        "id": "p0kP1FMpVS64"
      },
      "execution_count": null,
      "outputs": []
    },
    {
      "cell_type": "code",
      "source": [
        "!git clone -b v1.2 https://github.com/camenduru/text-generation-webui.git\n",
        "%cd /content/text-generation-webui\n",
        "!pip install -r requirements.txt "
      ],
      "metadata": {
        "id": "MXLqqaXO6FwH"
      },
      "execution_count": null,
      "outputs": []
    },
    {
      "cell_type": "code",
      "execution_count": null,
      "metadata": {
        "id": "oWIEIapOAstd"
      },
      "outputs": [],
      "source": [
        "!mkdir /content/text-generation-webui/repositories\n",
        "%cd /content/text-generation-webui/repositories\n",
        "!git clone -b v1.2 https://github.com/camenduru/GPTQ-for-LLaMa.git\n",
        "%cd GPTQ-for-LLaMa\n",
        "!python setup_cuda.py install\n",
        "\n",
        "drive_folder = '/content/drive/MyDrive/text-generation-webui'\n",
        "if not os.path.exists(drive_folder):\n",
        "    os.makedirs(drive_folder)\n",
        "!mv /content/text-generation-webui/* \"$drive_folder/\""
      ]
    },
    {
      "cell_type": "code",
      "execution_count": null,
      "metadata": {
        "id": "eEGdDI1SED4j"
      },
      "outputs": [],
      "source": [
        "!apt-get -y install -qq aria2"
      ]
    },
    {
      "cell_type": "code",
      "execution_count": null,
      "metadata": {
        "id": "mht9fpviBonB"
      },
      "outputs": [],
      "source": [
        "import subprocess\n",
        "\n",
        "def download_file(url, path, filename):\n",
        "    command = f\"aria2c --console-log-level=error -c -x 16 -s 16 -k 1M {url} -d {path} -o {filename}\"\n",
        "    print(f\"Downloading {filename}...\")\n",
        "    subprocess.run(command, shell=True)\n",
        "    print(f\"{filename} downloaded successfully.\")\n",
        "  \n",
        "model = \"vicuna\"  # Set this to \"alpaca\" to select the alpaca model\n",
        "if model == \"alpaca\":\n",
        "    base_url = \"https://huggingface.co/anon8231489123/gpt4-x-alpaca-13b-native-4bit-128g\"\n",
        "    safetensors = \"4bit-128g.safetensors\"\n",
        "elif model == \"vicuna\":\n",
        "    base_url = \"https://huggingface.co/anon8231489123/vicuna-13b-GPTQ-4bit-128g\"\n",
        "    safetensors = \"vicuna-13b-4bit-128g.safetensors\"\n",
        "else:\n",
        "    raise ValueError(\"Invalid model selected\")\n",
        "\n",
        "base_path = \"/content/drive/MyDrive/text-generation-webui/models/gpt4-x-\" + model + \"-13b-native-4bit-128g\"\n",
        "\n",
        "download_file(f\"{base_url}/raw/main/config.json\", base_path, \"config.json\")\n",
        "download_file(f\"{base_url}/raw/main/generation_config.json\", base_path, \"generation_config.json\")\n",
        "download_file(f\"{base_url}/raw/main/special_tokens_map.json\", base_path, \"special_tokens_map.json\")\n",
        "download_file(f\"{base_url}/resolve/main/tokenizer.model\", base_path, \"tokenizer.model\")\n",
        "download_file(f\"{base_url}/raw/main/tokenizer_config.json\", base_path, \"tokenizer_config.json\")\n",
        "download_file(f\"{base_url}/resolve/main/{safetensors}\", base_path, safetensors)"
      ]
    },
    {
      "cell_type": "code",
      "execution_count": null,
      "metadata": {
        "id": "Q1157a1yBpq4"
      },
      "outputs": [],
      "source": [
        "import os  \n",
        "\n",
        "%cd /content/drive/MyDrive/text-generation-webui\n",
        "\n",
        "auth_token_path = \"/content/drive/MyDrive/text-generation-webui/auth_token.txt\"\n",
        "\n",
        "# Set your username and password here (or use the default)\n",
        "user = \"username\" \n",
        "password = \"password\"\n",
        " \n",
        "auth = input(\"Do you want to enable authentication? (yes/no): \") \n",
        "\n",
        "if auth.lower() == \"yes\":\n",
        "    with open(auth_token_path, \"w\") as f:\n",
        "        f.write(f\"{user}:{password}\")\n",
        "    print(\"auth_token.txt created successfully.\") \n",
        "\n",
        "if os.path.exists(auth_token_path):\n",
        "    !python server.py --share --chat --wbits 4 --groupsize 128 --gradio-auth-path {auth_token_path}\n",
        "else:\n",
        "    !python server.py --share --chat --wbits 4 --groupsize 128"
      ]
    }
  ],
  "metadata": {
    "accelerator": "GPU",
    "colab": {
      "provenance": []
    },
    "gpuClass": "standard",
    "kernelspec": {
      "display_name": "Python 3",
      "name": "python3"
    },
    "language_info": {
      "name": "python"
    }
  },
  "nbformat": 4,
  "nbformat_minor": 0
}